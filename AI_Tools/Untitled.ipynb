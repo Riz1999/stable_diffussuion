{
 "cells": [
  {
   "cell_type": "code",
   "execution_count": 1,
   "id": "d05a4f24",
   "metadata": {},
   "outputs": [
    {
     "ename": "ModuleNotFoundError",
     "evalue": "No module named 'customtkinter'",
     "output_type": "error",
     "traceback": [
      "\u001b[1;31m---------------------------------------------------------------------------\u001b[0m",
      "\u001b[1;31mModuleNotFoundError\u001b[0m                       Traceback (most recent call last)",
      "Cell \u001b[1;32mIn[1], line 2\u001b[0m\n\u001b[0;32m      1\u001b[0m \u001b[38;5;28;01mimport\u001b[39;00m \u001b[38;5;21;01mtkinter\u001b[39;00m \u001b[38;5;28;01mas\u001b[39;00m \u001b[38;5;21;01mtk\u001b[39;00m\n\u001b[1;32m----> 2\u001b[0m \u001b[38;5;28;01mimport\u001b[39;00m \u001b[38;5;21;01mcustomtkinter\u001b[39;00m \u001b[38;5;28;01mas\u001b[39;00m \u001b[38;5;21;01mctk\u001b[39;00m\n\u001b[0;32m      4\u001b[0m \u001b[38;5;28;01mfrom\u001b[39;00m \u001b[38;5;21;01mPIL\u001b[39;00m \u001b[38;5;28;01mimport\u001b[39;00m ImageTk\n\u001b[0;32m      5\u001b[0m \u001b[38;5;28;01mfrom\u001b[39;00m \u001b[38;5;21;01mauthtoken\u001b[39;00m \u001b[38;5;28;01mimport\u001b[39;00m auth_token\n",
      "\u001b[1;31mModuleNotFoundError\u001b[0m: No module named 'customtkinter'"
     ]
    }
   ],
   "source": [
    "import tkinter as tk\n",
    "import customtkinter as ctk\n",
    "\n",
    "from PIL import ImageTk\n",
    "from authtoken import auth_token\n",
    "\n",
    "import torch\n",
    "from torch import autocast\n",
    "from diffusers import StableDiffusionPipeline \n",
    "\n",
    "# Create the app\n",
    "app = tk.Tk()\n",
    "app.geometry(\"532x632\")\n",
    "app.title(\"Stable Bud\") \n",
    "ctk.set_appearance_mode(\"dark\") \n",
    "\n",
    "prompt = ctk.CTkEntry(height=40, width=512, text_font=(\"Arial\", 20), text_color=\"black\", fg_color=\"white\") \n",
    "prompt.place(x=10, y=10)\n",
    "\n",
    "lmain = ctk.CTkLabel(height=512, width=512)\n",
    "lmain.place(x=10, y=110)\n",
    "\n",
    "modelid = \"CompVis/stable-diffusion-v1-4\"\n",
    "device = \"cuda\"\n",
    "pipe = StableDiffusionPipeline.from_pretrained(modelid, revision=\"fp16\", torch_dtype=torch.float16, use_auth_token=auth_token) \n",
    "pipe.to(device) \n",
    "\n",
    "def generate(): \n",
    "    with autocast(device): \n",
    "        image = pipe(prompt.get(), guidance_scale=8.5)[\"sample\"][0]\n",
    "    \n",
    "    image.save('generatedimage.png')\n",
    "    img = ImageTk.PhotoImage(image)\n",
    "    lmain.configure(image=img) \n",
    "\n",
    "trigger = ctk.CTkButton(height=40, width=120, text_font=(\"Arial\", 20), text_color=\"white\", fg_color=\"blue\", command=generate) \n",
    "trigger.configure(text=\"Generate\") \n",
    "trigger.place(x=206, y=60) \n",
    "\n",
    "app.mainloop()"
   ]
  },
  {
   "cell_type": "code",
   "execution_count": 3,
   "id": "fd801b6d",
   "metadata": {},
   "outputs": [
    {
     "name": "stdout",
     "output_type": "stream",
     "text": [
      "Collecting customtkinter\n",
      "  Using cached customtkinter-5.2.0-py3-none-any.whl (295 kB)\n",
      "Collecting darkdetect (from customtkinter)\n",
      "  Using cached darkdetect-0.8.0-py3-none-any.whl (9.0 kB)\n",
      "Installing collected packages: darkdetect, customtkinter\n",
      "Successfully installed customtkinter-5.2.0 darkdetect-0.8.0\n",
      "Note: you may need to restart the kernel to use updated packages.\n"
     ]
    }
   ],
   "source": [
    "pip install customtkinter\n"
   ]
  },
  {
   "cell_type": "code",
   "execution_count": null,
   "id": "f17e7efa",
   "metadata": {},
   "outputs": [],
   "source": []
  }
 ],
 "metadata": {
  "kernelspec": {
   "display_name": "Python 3 (ipykernel)",
   "language": "python",
   "name": "python3"
  },
  "language_info": {
   "codemirror_mode": {
    "name": "ipython",
    "version": 3
   },
   "file_extension": ".py",
   "mimetype": "text/x-python",
   "name": "python",
   "nbconvert_exporter": "python",
   "pygments_lexer": "ipython3",
   "version": "3.8.0"
  }
 },
 "nbformat": 4,
 "nbformat_minor": 5
}
